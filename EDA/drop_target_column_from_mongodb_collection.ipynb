{
 "cells": [
  {
   "cell_type": "code",
   "execution_count": 1,
   "id": "abd8b957",
   "metadata": {},
   "outputs": [],
   "source": [
    "import os\n",
    "import pandas as pd\n",
    "from pymongo import MongoClient"
   ]
  },
  {
   "cell_type": "code",
   "execution_count": 2,
   "id": "8fe5c94d",
   "metadata": {},
   "outputs": [],
   "source": [
    "MONGODB_URL_KEY = os.environ['MONGODB_KEY']"
   ]
  },
  {
   "cell_type": "code",
   "execution_count": 3,
   "id": "8e066aa1",
   "metadata": {},
   "outputs": [],
   "source": [
    "client = MongoClient(MONGODB_URL_KEY)"
   ]
  },
  {
   "cell_type": "code",
   "execution_count": 4,
   "id": "8245fdec",
   "metadata": {},
   "outputs": [],
   "source": [
    "db = client['db-customer-churn']\n",
    "collection = db['predict-telco-customer-churn']"
   ]
  },
  {
   "cell_type": "code",
   "execution_count": 5,
   "id": "6d62ee83",
   "metadata": {},
   "outputs": [
    {
     "data": {
      "text/plain": [
       "<pymongo.results.UpdateResult at 0x2351e661d60>"
      ]
     },
     "execution_count": 5,
     "metadata": {},
     "output_type": "execute_result"
    }
   ],
   "source": [
    "# Update each document in the collection to remove the 'Churn' field\n",
    "collection.update_many({}, {\"$unset\": {\"Churn\": \"\"}})"
   ]
  },
  {
   "cell_type": "code",
   "execution_count": null,
   "id": "34549741",
   "metadata": {},
   "outputs": [],
   "source": []
  }
 ],
 "metadata": {
  "kernelspec": {
   "display_name": "Python 3 (ipykernel)",
   "language": "python",
   "name": "python3"
  },
  "language_info": {
   "codemirror_mode": {
    "name": "ipython",
    "version": 3
   },
   "file_extension": ".py",
   "mimetype": "text/x-python",
   "name": "python",
   "nbconvert_exporter": "python",
   "pygments_lexer": "ipython3",
   "version": "3.9.13"
  }
 },
 "nbformat": 4,
 "nbformat_minor": 5
}
